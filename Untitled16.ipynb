{
  "nbformat": 4,
  "nbformat_minor": 0,
  "metadata": {
    "colab": {
      "provenance": [],
      "authorship_tag": "ABX9TyORza+sltR2maKlAq64H/oD",
      "include_colab_link": true
    },
    "kernelspec": {
      "name": "python3",
      "display_name": "Python 3"
    },
    "language_info": {
      "name": "python"
    }
  },
  "cells": [
    {
      "cell_type": "markdown",
      "metadata": {
        "id": "view-in-github",
        "colab_type": "text"
      },
      "source": [
        "<a href=\"https://colab.research.google.com/github/mariatozi/alurabooks/blob/main/Untitled16.ipynb\" target=\"_parent\"><img src=\"https://colab.research.google.com/assets/colab-badge.svg\" alt=\"Open In Colab\"/></a>"
      ]
    },
    {
      "cell_type": "code",
      "execution_count": 2,
      "metadata": {
        "colab": {
          "base_uri": "https://localhost:8080/"
        },
        "id": "-RtSYjMUmiId",
        "outputId": "5b0b711a-7f35-4d7f-96c2-19bfa78925b1"
      },
      "outputs": [
        {
          "output_type": "stream",
          "name": "stdout",
          "text": [
            "Informações do Aluno 1\n",
            "Nota na AOP1 [0-1]: 1\n",
            "Nota na AOP2 [0-2]: 2\n",
            "Nota na AOP3 [0-1]: 2\n",
            "Nota na PROVA REGULAR [0-6]: 7\n",
            "Status do Aluno: Reprovado\n",
            "Soma do Módulo (SM): 12.0\n",
            "\n",
            "Porcentagem de Alunos Aprovados: 0.0%\n",
            "Porcentagem de Alunos Reprovados: 1.0%\n"
          ]
        }
      ],
      "source": [
        "# Inicialize as variáveis para contagem de aprovados e reprovados\n",
        "aprovados = 0\n",
        "reprovados = 0\n",
        "\n",
        "# Repita o processo para 100 alunos\n",
        "for i in range(1):\n",
        "    print(f\"Informações do Aluno {i + 1}\")\n",
        "\n",
        "    # Ler as notas das atividades online pontuadas e da prova regular\n",
        "    aop1 = float(input(\"Nota na AOP1 [0-1]: \"))\n",
        "    aop2 = float(input(\"Nota na AOP2 [0-2]: \"))\n",
        "    aop3 = float(input(\"Nota na AOP3 [0-1]: \"))\n",
        "    prova_regular = float(input(\"Nota na PROVA REGULAR [0-6]: \"))\n",
        "\n",
        "    # Calcular a Soma do Módulo (SM)\n",
        "    sm = aop1 + aop2 + aop3 + prova_regular\n",
        "\n",
        "    # Verificar se o aluno precisa fazer prova de recuperação\n",
        "    if sm < 7.0:\n",
        "        prova_recuperacao = float(input(\"Nota na PROVA DE RECUPERAÇÃO [0-10]: \"))\n",
        "        sm = max(sm, prova_recuperacao)\n",
        "\n",
        "    # Calcular a Média Geral\n",
        "    media_geral = sm / 4\n",
        "\n",
        "    # Determinar o Status do Aluno\n",
        "    if media_geral >= 5.0:\n",
        "        status = \"Aprovado\"\n",
        "        aprovados += 1\n",
        "    else:\n",
        "        status = \"Reprovado\"\n",
        "        reprovados += 1\n",
        "\n",
        "    print(f\"Status do Aluno: {status}\")\n",
        "    print(\"Soma do Módulo (SM):\", sm)\n",
        "    print()\n",
        "\n",
        "# Calcular a porcentagem de aprovados e reprovados\n",
        "total_alunos = 100\n",
        "percent_aprovados = (aprovados / total_alunos) * 100\n",
        "percent_reprovados = (reprovados / total_alunos) * 100\n",
        "\n",
        "print(f\"Porcentagem de Alunos Aprovados: {percent_aprovados}%\")\n",
        "print(f\"Porcentagem de Alunos Reprovados: {percent_reprovados}%\")\n"
      ]
    }
  ]
}